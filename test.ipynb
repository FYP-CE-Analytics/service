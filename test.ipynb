{
 "cells": [
  {
   "cell_type": "code",
   "execution_count": 1,
   "id": "initial_id",
   "metadata": {
    "ExecuteTime": {
     "end_time": "2025-03-20T14:15:54.662344Z",
     "start_time": "2025-03-20T14:15:53.817324Z"
    },
    "collapsed": true
   },
   "outputs": [
    {
     "data": {
      "text/plain": [
       "True"
      ]
     },
     "execution_count": 1,
     "metadata": {},
     "output_type": "execute_result"
    }
   ],
   "source": [
    "from dotenv import load_dotenv\n",
    "import os\n",
    "from edapi import EdAPI\n",
    "from edapi.models.user import User\n",
    "import pandas as pd\n",
    "load_dotenv()"
   ]
  },
  {
   "cell_type": "code",
   "execution_count": 2,
   "id": "a0e176000b0bb44f",
   "metadata": {
    "ExecuteTime": {
     "end_time": "2025-03-20T14:16:05.784249Z",
     "start_time": "2025-03-20T14:16:05.472205Z"
    }
   },
   "outputs": [
    {
     "name": "stdout",
     "output_type": "stream",
     "text": [
      "Hello Caleb Ooi!\n"
     ]
    }
   ],
   "source": [
    "ED_API_TOKEN = os.getenv(\"ED_API_TOKEN\")\n",
    "ed_client = EdAPI(ED_API_TOKEN)\n",
    "\n",
    "user:User = ed_client.get_user_info()\n",
    "\n",
    "print(f\"Hello {user.name}!\")\n"
   ]
  },
  {
   "cell_type": "markdown",
   "id": "9dc42378",
   "metadata": {},
   "source": [
    "Get unit thats active"
   ]
  },
  {
   "cell_type": "code",
   "execution_count": 3,
   "id": "a56b8b340726c941",
   "metadata": {
    "ExecuteTime": {
     "end_time": "2025-03-20T14:25:10.467430Z",
     "start_time": "2025-03-20T14:25:10.454057Z"
    }
   },
   "outputs": [],
   "source": [
    "active_course = user.get_active_courses()\n",
    "active_course_df = pd.DataFrame([course.to_dict() for course in active_course])\n",
    "target_course = \"Sandbox FIT5032\"\n",
    "course_id = 14448"
   ]
  },
  {
   "cell_type": "markdown",
   "id": "6528688b",
   "metadata": {},
   "source": [
    "Get threads\n"
   ]
  },
  {
   "cell_type": "code",
   "execution_count": 4,
   "id": "7ba135c1082fe919",
   "metadata": {
    "ExecuteTime": {
     "end_time": "2025-03-20T14:18:10.350357Z",
     "start_time": "2025-03-20T14:18:10.306358Z"
    }
   },
   "outputs": [
    {
     "name": "stdout",
     "output_type": "stream",
     "text": [
      "id=1816687 user_id=114866 course_id=14448 type='post' title='🌟 Frequently Asked Questions' document='Unit Logistics\\n\\nDue to some circumstances, I cannot meet the submission deadline; what should I do?\\n\\nApply for special consideration. You can find more details under the Assignments control panel.\\n\\nWhere can I find my tutor\\'s emails?\\n\\nYou can find them on Moodle under the Unit Information section.\\n\\nCan I use libraries or frameworks not delivered in this unit in my assignments?\\n\\nNo. \\n\\nWhy are the tutors not replying to me?\\n\\nEmailing staff after hours\\nWhile we try to respond to enquiries as soon as possible, please do not expect immediate replies to emails, especially outside of regular working hours (or non-teaching periods e.g. mid-semester break). It may take up to 2 working days to receive an answer to an email or Ed post.\\n\\nIf you send emails to teaching staff on Friday, be prepared to wait until Monday or Tuesday for a reply.\\n\\nTechnical issues\\n\\nHow do I ask technical questions on Ed?\\n\\nAsking good questions is a skill. If you ask well-phrased questions, you get faster, accurate responses rather than lots of time spent going backwards and forwards with a tutor/helper.\\n\\n1. Share a recording of the issue you are facing (GIF file). \\n\\nIf you have Mac, use this: https://giphy.com/apps/giphycapture\\n\\nWindow: https://getsharex.com/\\n\\n2. Read this article on advice \\'How to Ask a good question (Stack Overflow)\\'\\n\\nhttps://stackoverflow.com/help/how-to-ask\\n\\nAssignment Logistics\\n\\nHow should I avoid issues with Moodle?!\\n\\n1. Don\\'t leave your submission in draft\\nMake sure you click the final \"submit assignment\" button to finalise the submission. A submission left in draft is still editable and cannot be marked. Late submission penalties are calculated based on the submission time, not the upload time of files.\\n\\n2. Check your submitted file carefully\\nIt is your responsibility to ensure that all submitted files are correct and complete when you upload them. \\n\\nWhen you have uploaded the file, \\n\\nPlease download it again\\n\\nCheck it thoroughly\\n\\nAnd once you\\'re sure there are no issues, click on submit.\\n\\nStaff can only mark submissions received via Moodle - do not send us additional files via email. \\n\\n3. If your file size exceeds 20MB, please try the following options:\\n\\nOption 1: Try Build > Clean and then Export\\n\\nOption 2: Open the folder > app > (delete the \\'build\\' folder) - Then Export again.\\n\\nOption 3: Run your application on the emulator again - Then Export again.\\n\\nCan I use Assignment 1 code for Assignments 2 and 3\\n\\nYes\\n\\nMy Assignment 1 is not working, what should I do?\\n\\nConsult your lab and consultation tutors to finish/fix A1' category='General' subcategory='' subsubcategory='' unique_view_count=551 vote_count=0 created_at=datetime.datetime(2024, 3, 18, 12, 16, 4, 447361, tzinfo=TzInfo(+11:00)) updated_at=datetime.datetime(2025, 3, 27, 16, 9, 42, 111211, tzinfo=TzInfo(+11:00)) user=ThreadUser(id=114866, name='Nawfal Sheikh Ali')\n"
     ]
    },
    {
     "data": {
      "text/plain": [
       "(100, 14)"
      ]
     },
     "execution_count": 4,
     "metadata": {},
     "output_type": "execute_result"
    }
   ],
   "source": [
    "\n",
    "thread_responses = ed_client.list_threads(course_id=course_id,limit=100)\n",
    "print(thread_responses[0])\n",
    "thread_responses_df = pd.DataFrame([thread.model_dump() for thread in thread_responses])\n",
    "thread_responses_df.shape\n"
   ]
  },
  {
   "cell_type": "markdown",
   "id": "9e11e2b4",
   "metadata": {},
   "source": [
    "Cleaning up the data"
   ]
  },
  {
   "cell_type": "code",
   "execution_count": 5,
   "id": "8d91a2b9082ee99",
   "metadata": {},
   "outputs": [
    {
     "data": {
      "text/html": [
       "<div>\n",
       "<style scoped>\n",
       "    .dataframe tbody tr th:only-of-type {\n",
       "        vertical-align: middle;\n",
       "    }\n",
       "\n",
       "    .dataframe tbody tr th {\n",
       "        vertical-align: top;\n",
       "    }\n",
       "\n",
       "    .dataframe thead th {\n",
       "        text-align: right;\n",
       "    }\n",
       "</style>\n",
       "<table border=\"1\" class=\"dataframe\">\n",
       "  <thead>\n",
       "    <tr style=\"text-align: right;\">\n",
       "      <th></th>\n",
       "      <th>id</th>\n",
       "      <th>chunk_text</th>\n",
       "      <th>category</th>\n",
       "    </tr>\n",
       "  </thead>\n",
       "  <tbody>\n",
       "    <tr>\n",
       "      <th>0</th>\n",
       "      <td>1816687</td>\n",
       "      <td>🌟 Frequently Asked Questions Unit Logistics\\n\\...</td>\n",
       "      <td>General</td>\n",
       "    </tr>\n",
       "    <tr>\n",
       "      <th>1</th>\n",
       "      <td>2085356</td>\n",
       "      <td>Supplementary How do we apply for supplementar...</td>\n",
       "      <td>General</td>\n",
       "    </tr>\n",
       "    <tr>\n",
       "      <th>2</th>\n",
       "      <td>2084004</td>\n",
       "      <td>Analysis of final grade Can we get a breakdown...</td>\n",
       "      <td>General</td>\n",
       "    </tr>\n",
       "    <tr>\n",
       "      <th>3</th>\n",
       "      <td>2075399</td>\n",
       "      <td>Supplementary Will there be any supplementary ...</td>\n",
       "      <td>General</td>\n",
       "    </tr>\n",
       "    <tr>\n",
       "      <th>4</th>\n",
       "      <td>2071709</td>\n",
       "      <td>Unmarked Labs Hi there, I was wondering when a...</td>\n",
       "      <td>Labs</td>\n",
       "    </tr>\n",
       "    <tr>\n",
       "      <th>...</th>\n",
       "      <td>...</td>\n",
       "      <td>...</td>\n",
       "      <td>...</td>\n",
       "    </tr>\n",
       "    <tr>\n",
       "      <th>95</th>\n",
       "      <td>1977903</td>\n",
       "      <td>Snackbar on save of Event Hi,\\n\\nDo we need to...</td>\n",
       "      <td>Assignments</td>\n",
       "    </tr>\n",
       "    <tr>\n",
       "      <th>96</th>\n",
       "      <td>1977398</td>\n",
       "      <td>Google maps back button problem with Intent da...</td>\n",
       "      <td>Assignments</td>\n",
       "    </tr>\n",
       "    <tr>\n",
       "      <th>97</th>\n",
       "      <td>1976409</td>\n",
       "      <td>Grade Distribution Hi, \\n\\nIt says if we compl...</td>\n",
       "      <td>Assignments</td>\n",
       "    </tr>\n",
       "    <tr>\n",
       "      <th>98</th>\n",
       "      <td>1975705</td>\n",
       "      <td>Room Database error  Assignments</td>\n",
       "      <td>Assignments</td>\n",
       "    </tr>\n",
       "    <tr>\n",
       "      <th>99</th>\n",
       "      <td>1975092</td>\n",
       "      <td>Google Maps In regards to section C (Google Ma...</td>\n",
       "      <td>Assignments</td>\n",
       "    </tr>\n",
       "  </tbody>\n",
       "</table>\n",
       "<p>100 rows × 3 columns</p>\n",
       "</div>"
      ],
      "text/plain": [
       "         id                                         chunk_text     category\n",
       "0   1816687  🌟 Frequently Asked Questions Unit Logistics\\n\\...      General\n",
       "1   2085356  Supplementary How do we apply for supplementar...      General\n",
       "2   2084004  Analysis of final grade Can we get a breakdown...      General\n",
       "3   2075399  Supplementary Will there be any supplementary ...      General\n",
       "4   2071709  Unmarked Labs Hi there, I was wondering when a...         Labs\n",
       "..      ...                                                ...          ...\n",
       "95  1977903  Snackbar on save of Event Hi,\\n\\nDo we need to...  Assignments\n",
       "96  1977398  Google maps back button problem with Intent da...  Assignments\n",
       "97  1976409  Grade Distribution Hi, \\n\\nIt says if we compl...  Assignments\n",
       "98  1975705                   Room Database error  Assignments  Assignments\n",
       "99  1975092  Google Maps In regards to section C (Google Ma...  Assignments\n",
       "\n",
       "[100 rows x 3 columns]"
      ]
     },
     "execution_count": 5,
     "metadata": {},
     "output_type": "execute_result"
    }
   ],
   "source": [
    "#combine the title, document and category \n",
    "thread_responses_df['combine_content'] = thread_responses_df['title'] + \" \" + thread_responses_df['document'] + \" \" + thread_responses_df['category']\n",
    "\n",
    "# thread_responses_df\n",
    "#remove empty string e.g \\n \\t\n",
    "thread_responses_df['chunk_text'] = thread_responses_df['combine_content'].str.strip()\n",
    "\n",
    "#pine df needs id, values, metadata\n",
    "pine_df = thread_responses_df[['id','chunk_text','category']].copy()\n",
    "pine_df['id'] = pine_df['id'].astype(str)\n",
    "pine_df"
   ]
  },
  {
   "cell_type": "markdown",
   "id": "2896b11e",
   "metadata": {},
   "source": [
    "insert into vector db"
   ]
  },
  {
   "cell_type": "code",
   "execution_count": 6,
   "id": "6d577b93",
   "metadata": {},
   "outputs": [
    {
     "name": "stderr",
     "output_type": "stream",
     "text": [
      "c:\\Users\\Caleb\\Documents\\FYP\\Ed-summariser-server\\.venv\\Lib\\site-packages\\tqdm\\auto.py:21: TqdmWarning: IProgress not found. Please update jupyter and ipywidgets. See https://ipywidgets.readthedocs.io/en/stable/user_install.html\n",
      "  from .autonotebook import tqdm as notebook_tqdm\n"
     ]
    }
   ],
   "source": [
    "from pinecone import Pinecone\n",
    "PINE_CONE_API_KEY = os.getenv(\"PINECONE_API_KEY\")\n",
    "pc = Pinecone(api_key=PINE_CONE_API_KEY)"
   ]
  },
  {
   "cell_type": "code",
   "execution_count": 7,
   "id": "2f28106c",
   "metadata": {},
   "outputs": [],
   "source": [
    "index_name = target_course.lower().replace(\" \", \"-\") + \"-thread-embeddings\"\n",
    "if not pc.has_index(index_name):\n",
    "    pc.create_index_for_model(\n",
    "        name=index_name,\n",
    "        cloud=\"aws\",\n",
    "        region=\"us-east-1\",\n",
    "        embed={\n",
    "            \"model\": \"llama-text-embed-v2\",\n",
    "            \"field_map\": {\"text\": \"chunk_text\"}\n",
    "        }\n",
    "    )"
   ]
  },
  {
   "cell_type": "code",
   "execution_count": 8,
   "id": "aef5f617",
   "metadata": {},
   "outputs": [
    {
     "name": "stdout",
     "output_type": "stream",
     "text": [
      "Upserting records 0 to 50\n",
      "Upserting records 50 to 100\n"
     ]
    }
   ],
   "source": [
    "index = pc.Index(index_name)\n",
    "for i in range(0, pine_df.shape[0], 50):\n",
    "    print(f\"Upserting records {i} to {i+50}\")\n",
    "    index.upsert_records(namespace=\"test\", records=pine_df.to_dict(orient='records')[i:i+50])"
   ]
  },
  {
   "cell_type": "markdown",
   "id": "748d4049",
   "metadata": {},
   "source": [
    "k mean clustering"
   ]
  },
  {
   "cell_type": "code",
   "execution_count": 9,
   "id": "2feffaff",
   "metadata": {},
   "outputs": [],
   "source": [
    "from sklearn.cluster import KMeans\n",
    "from numpy import random"
   ]
  },
  {
   "cell_type": "code",
   "execution_count": 10,
   "id": "39c1cb91",
   "metadata": {},
   "outputs": [],
   "source": [
    "ids = list(index.list(namespace=\"test\"))\n",
    "embedding = index.fetch(ids[0], namespace=\"test\")\n",
    "# {id, values}\n",
    "embeddings_dict = embedding.vectors\n",
    "embeddings = [{\"id\": vector.id, \"embedding\": vector.values, \"metadata\": vector.metadata } for vector in embeddings_dict.values()]\n",
    "embeddings_df = pd.DataFrame(embeddings)\n"
   ]
  },
  {
   "cell_type": "code",
   "execution_count": 11,
   "id": "c1bd70c4",
   "metadata": {},
   "outputs": [],
   "source": [
    "embeddings_array = embeddings_df['embedding'].to_list()"
   ]
  },
  {
   "cell_type": "code",
   "execution_count": 14,
   "id": "3715bb33",
   "metadata": {},
   "outputs": [],
   "source": [
    "kmeans = KMeans(n_clusters=8, random_state=random.randint(0,100000)).fit(embeddings_array)\n",
    "clusters= kmeans.cluster_centers_\n",
    "search = clusters[0].tolist()\n"
   ]
  },
  {
   "cell_type": "code",
   "execution_count": 16,
   "id": "11001bb2",
   "metadata": {},
   "outputs": [],
   "source": [
    "results = index.query(vector=search, top_k=3, namespace=\"test\", rerank={\n",
    "    \"model\": \"bge-reranker-v2-m3\",\n",
    "    \"top_n\": 10,\n",
    "    \"rank_fields\": [\"chunk_text\"]\n",
    "})\n",
    "matched_ids = [result.id for result in results.matches]\n",
    "## get the content \n",
    "related_questions = index.fetch(matched_ids, namespace=\"test\")"
   ]
  },
  {
   "cell_type": "code",
   "execution_count": 18,
   "id": "54651cad",
   "metadata": {},
   "outputs": [],
   "source": [
    "text = [thread.metadata for thread in related_questions.vectors.values()]\n",
    "text_combine = \"question :\".join([f\"{t[\"chunk_text\"]}\" for t in text])\n"
   ]
  },
  {
   "cell_type": "code",
   "execution_count": 21,
   "id": "2b2b9526",
   "metadata": {},
   "outputs": [
    {
     "data": {
      "text/plain": [
       "'Error that I cannot solve I keep getting this error when trying to get the categoryID of the event category  Assignmentsquestion :Error saying cannot be instantiated Hello,\\n\\neverytime I try to create an instance of a class ( lets just say Event class for example)\\n\\ni keep getting an error saying Event is abstract, cannot be instantiated and it doesnt make sense bc my class is not abstract  Assignmentsquestion :ERR_NAME_NOT_RESOLVED Please help me fix this error, it was working all well, and now it has suddenly displayed this error upon click of the event card for the Wiki page:\\n\\n Assignments'"
      ]
     },
     "execution_count": 21,
     "metadata": {},
     "output_type": "execute_result"
    }
   ],
   "source": [
    "text_combine"
   ]
  },
  {
   "cell_type": "markdown",
   "id": "013588a9",
   "metadata": {},
   "source": [
    "Send the cluster related document to llm to create faq"
   ]
  },
  {
   "cell_type": "code",
   "execution_count": null,
   "id": "4ac89cb2",
   "metadata": {},
   "outputs": [],
   "source": [
    "from openai import OpenAI\n",
    "\n",
    "client = OpenAI(\n",
    "    base_url=\"https://openrouter.ai/api/v1\",\n",
    "    api_key=(\n",
    "        \"\"),\n",
    ")"
   ]
  },
  {
   "cell_type": "code",
   "execution_count": null,
   "id": "6261c120",
   "metadata": {},
   "outputs": [
    {
     "ename": "SyntaxError",
     "evalue": "invalid syntax. Perhaps you forgot a comma? (156540988.py, line 11)",
     "output_type": "error",
     "traceback": [
      "  \u001b[36mCell\u001b[39m\u001b[36m \u001b[39m\u001b[32mIn[33]\u001b[39m\u001b[32m, line 11\u001b[39m\n\u001b[31m    \u001b[39m\u001b[31m{\u001b[39m\n    ^\n\u001b[31mSyntaxError\u001b[39m\u001b[31m:\u001b[39m invalid syntax. Perhaps you forgot a comma?\n"
     ]
    }
   ],
   "source": [
    "\n",
    "completion = client.chat.completions.create(\n",
    "    model=\"google/gemini-2.0-flash-lite-preview-02-05:free\",\n",
    "  messages=[\n",
    "    {\n",
    "      \"role\": \"system\",\n",
    "      \"content\": \"You are an assistant for a teaching of a large unit at a university. \\\n",
    "You are given a set of questions that are related, generate a concise questions that caputre all the important details of these questions so that the teaching team can answer them. \\\n",
    "If the questions are not related, please say that they are not related. \\\n",
    "The provided text contains questions and the category of the qestions which can be General, Labs, Assignments. Please also group the questions by their category. \\\"\"\n",
    "    },\n",
    "      {\n",
    "        \"role\": \"system\",\n",
    "        \"content\": \"Follow the return format below: \\\n",
    "          {\\\n",
    "          'questions': []\"\n",
    "          },\n",
    "    {\n",
    "        \"role\": \"user\",\n",
    "        \"content\": text_combine\n",
    "    }\n",
    "   \n",
    "  ]\n",
    ")\n",
    "print(completion)\n",
    "print(completion.choices[0].message.content)"
   ]
  },
  {
   "cell_type": "code",
   "execution_count": null,
   "id": "bb1b0eaa",
   "metadata": {},
   "outputs": [],
   "source": []
  },
  {
   "cell_type": "code",
   "execution_count": null,
   "id": "8a78889f",
   "metadata": {},
   "outputs": [],
   "source": []
  }
 ],
 "metadata": {
  "kernelspec": {
   "display_name": ".venv",
   "language": "python",
   "name": "python3"
  },
  "language_info": {
   "codemirror_mode": {
    "name": "ipython",
    "version": 3
   },
   "file_extension": ".py",
   "mimetype": "text/x-python",
   "name": "python",
   "nbconvert_exporter": "python",
   "pygments_lexer": "ipython3",
   "version": "3.12.4"
  }
 },
 "nbformat": 4,
 "nbformat_minor": 5
}
