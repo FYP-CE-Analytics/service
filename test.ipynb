{
 "cells": [
  {
   "cell_type": "code",
   "execution_count": 1,
   "id": "initial_id",
   "metadata": {
    "ExecuteTime": {
     "end_time": "2025-03-20T14:15:54.662344Z",
     "start_time": "2025-03-20T14:15:53.817324Z"
    },
    "collapsed": true
   },
   "outputs": [
    {
     "data": {
      "text/plain": [
       "True"
      ]
     },
     "execution_count": 1,
     "metadata": {},
     "output_type": "execute_result"
    }
   ],
   "source": [
    "from dotenv import load_dotenv\n",
    "import os\n",
    "from edapi import EdAPI\n",
    "from edapi.models.user import User\n",
    "import pandas as pd\n",
    "load_dotenv()"
   ]
  },
  {
   "cell_type": "code",
   "execution_count": null,
   "id": "a0e176000b0bb44f",
   "metadata": {
    "ExecuteTime": {
     "end_time": "2025-03-20T14:16:05.784249Z",
     "start_time": "2025-03-20T14:16:05.472205Z"
    }
   },
   "outputs": [
    {
     "name": "stdout",
     "output_type": "stream",
     "text": [
      "Hello Delvin Varghese!\n"
     ]
    }
   ],
   "source": [
    "ED_API_TOKEN = os.getenv(\"ED_API_TOKEN\")\n",
    "ed_client = EdAPI(ED_API_TOKEN)\n",
    "\n",
    "user:User = ed_client.get_user_info()\n",
    "\n",
    "# ed_client.list_all\n",
    "# ed_client.list\n",
    "ed_client.list_all_students_threads\n",
    "\n",
    "print(f\"Hello {user.name}!\")\n"
   ]
  },
  {
   "cell_type": "markdown",
   "id": "9dc42378",
   "metadata": {},
   "source": [
    "Get unit thats active"
   ]
  },
  {
   "cell_type": "code",
   "execution_count": 10,
   "id": "a56b8b340726c941",
   "metadata": {
    "ExecuteTime": {
     "end_time": "2025-03-20T14:25:10.467430Z",
     "start_time": "2025-03-20T14:25:10.454057Z"
    }
   },
   "outputs": [
    {
     "data": {
      "text/html": [
       "<div>\n",
       "<style scoped>\n",
       "    .dataframe tbody tr th:only-of-type {\n",
       "        vertical-align: middle;\n",
       "    }\n",
       "\n",
       "    .dataframe tbody tr th {\n",
       "        vertical-align: top;\n",
       "    }\n",
       "\n",
       "    .dataframe thead th {\n",
       "        text-align: right;\n",
       "    }\n",
       "</style>\n",
       "<table border=\"1\" class=\"dataframe\">\n",
       "  <thead>\n",
       "    <tr style=\"text-align: right;\">\n",
       "      <th></th>\n",
       "      <th>id</th>\n",
       "      <th>code</th>\n",
       "      <th>name</th>\n",
       "      <th>year</th>\n",
       "      <th>session</th>\n",
       "      <th>status</th>\n",
       "      <th>created_at</th>\n",
       "      <th>last_active</th>\n",
       "    </tr>\n",
       "  </thead>\n",
       "  <tbody>\n",
       "    <tr>\n",
       "      <th>0</th>\n",
       "      <td>14133</td>\n",
       "      <td>FIT2081 SSB 2024</td>\n",
       "      <td>Mobile application development - Summer B 2024</td>\n",
       "      <td>2024</td>\n",
       "      <td>SSB</td>\n",
       "      <td>CourseStatus.ACTIVE</td>\n",
       "      <td>2023-11-07T21:07:54.753894+11:00</td>\n",
       "      <td>2024-02-29T11:00:00+11:00</td>\n",
       "    </tr>\n",
       "    <tr>\n",
       "      <th>1</th>\n",
       "      <td>14448</td>\n",
       "      <td>FIT2081 S1 2024</td>\n",
       "      <td>(Archived) Mobile application development</td>\n",
       "      <td>2024</td>\n",
       "      <td>Semester 1</td>\n",
       "      <td>CourseStatus.ACTIVE</td>\n",
       "      <td>2024-01-04T10:28:54.36295+11:00</td>\n",
       "      <td>2024-07-12T10:00:00+10:00</td>\n",
       "    </tr>\n",
       "    <tr>\n",
       "      <th>2</th>\n",
       "      <td>5302</td>\n",
       "      <td>Master and Honours Thesis S2 2024</td>\n",
       "      <td>Master and Honours Thesis</td>\n",
       "      <td>2024</td>\n",
       "      <td>Semester 1</td>\n",
       "      <td>CourseStatus.ACTIVE</td>\n",
       "      <td>2021-02-06T18:26:45.929499+11:00</td>\n",
       "      <td>2025-03-25T11:00:00+11:00</td>\n",
       "    </tr>\n",
       "    <tr>\n",
       "      <th>3</th>\n",
       "      <td>16396</td>\n",
       "      <td>Sandbox FIT5032</td>\n",
       "      <td>Sandbox - Internet App Development</td>\n",
       "      <td>2024</td>\n",
       "      <td>Semester 2</td>\n",
       "      <td>CourseStatus.ACTIVE</td>\n",
       "      <td>2024-04-09T15:25:35.155008+10:00</td>\n",
       "      <td>2025-03-29T11:00:00+11:00</td>\n",
       "    </tr>\n",
       "    <tr>\n",
       "      <th>4</th>\n",
       "      <td>20813</td>\n",
       "      <td>FIT2081 S1 2025</td>\n",
       "      <td>📲 Mobile application development</td>\n",
       "      <td>2025</td>\n",
       "      <td>Semester 1</td>\n",
       "      <td>CourseStatus.ACTIVE</td>\n",
       "      <td>2025-01-14T17:30:01.39138+11:00</td>\n",
       "      <td>2025-03-29T11:00:00+11:00</td>\n",
       "    </tr>\n",
       "    <tr>\n",
       "      <th>5</th>\n",
       "      <td>8900</td>\n",
       "      <td>FIT2095 S2 2022</td>\n",
       "      <td>e-Business software technologies</td>\n",
       "      <td>2022</td>\n",
       "      <td>Semester 2</td>\n",
       "      <td>CourseStatus.ACTIVE</td>\n",
       "      <td>2022-06-30T09:50:23.403954+10:00</td>\n",
       "      <td>2022-06-29T10:00:00+10:00</td>\n",
       "    </tr>\n",
       "    <tr>\n",
       "      <th>6</th>\n",
       "      <td>4552</td>\n",
       "      <td>FIT TA Network</td>\n",
       "      <td>FIT TA Network</td>\n",
       "      <td>2020</td>\n",
       "      <td>Semester 2</td>\n",
       "      <td>CourseStatus.ACTIVE</td>\n",
       "      <td>2020-07-23T11:09:39.197003+10:00</td>\n",
       "      <td>2023-10-08T11:00:00+11:00</td>\n",
       "    </tr>\n",
       "    <tr>\n",
       "      <th>7</th>\n",
       "      <td>10895</td>\n",
       "      <td>FIT2081 S1 2023</td>\n",
       "      <td>Mobile application development</td>\n",
       "      <td>2023</td>\n",
       "      <td>Semester 1</td>\n",
       "      <td>CourseStatus.ACTIVE</td>\n",
       "      <td>2023-02-08T08:45:13.194704+11:00</td>\n",
       "      <td>2023-06-20T10:00:00+10:00</td>\n",
       "    </tr>\n",
       "    <tr>\n",
       "      <th>8</th>\n",
       "      <td>15947</td>\n",
       "      <td>FIT2081 - MUM S1 2024</td>\n",
       "      <td>FIT2081 Mobile application development - MUM S...</td>\n",
       "      <td>2024</td>\n",
       "      <td>Semester 1</td>\n",
       "      <td>CourseStatus.ACTIVE</td>\n",
       "      <td>2024-02-19T00:10:18.52827+11:00</td>\n",
       "      <td>2024-09-04T10:00:00+10:00</td>\n",
       "    </tr>\n",
       "    <tr>\n",
       "      <th>9</th>\n",
       "      <td>17066</td>\n",
       "      <td>FIT5032 T3 2024</td>\n",
       "      <td>Internet applications development</td>\n",
       "      <td>2024</td>\n",
       "      <td>T3</td>\n",
       "      <td>CourseStatus.ACTIVE</td>\n",
       "      <td>2024-06-19T12:20:58.586625+10:00</td>\n",
       "      <td>2024-08-21T10:00:00+10:00</td>\n",
       "    </tr>\n",
       "    <tr>\n",
       "      <th>10</th>\n",
       "      <td>12301</td>\n",
       "      <td>FIT5032 S2 2023</td>\n",
       "      <td>Internet applications development</td>\n",
       "      <td>2023</td>\n",
       "      <td>Semester 2</td>\n",
       "      <td>CourseStatus.ACTIVE</td>\n",
       "      <td>2023-06-27T13:40:24.067294+10:00</td>\n",
       "      <td>2023-11-15T11:00:00+11:00</td>\n",
       "    </tr>\n",
       "    <tr>\n",
       "      <th>11</th>\n",
       "      <td>16870</td>\n",
       "      <td>FIT2095 S2 2024</td>\n",
       "      <td>Full stack development</td>\n",
       "      <td>2024</td>\n",
       "      <td>Semester 2</td>\n",
       "      <td>CourseStatus.ACTIVE</td>\n",
       "      <td>2024-06-12T06:42:16.888931+10:00</td>\n",
       "      <td>2024-12-11T11:00:00+11:00</td>\n",
       "    </tr>\n",
       "    <tr>\n",
       "      <th>12</th>\n",
       "      <td>17129</td>\n",
       "      <td>ITO5032 TP4-24</td>\n",
       "      <td>Web application development</td>\n",
       "      <td>2024</td>\n",
       "      <td>TP4</td>\n",
       "      <td>CourseStatus.ACTIVE</td>\n",
       "      <td>2024-06-24T09:25:35.58861+10:00</td>\n",
       "      <td>2024-08-13T10:00:00+10:00</td>\n",
       "    </tr>\n",
       "    <tr>\n",
       "      <th>13</th>\n",
       "      <td>16400</td>\n",
       "      <td>FIT5032 S2 2024</td>\n",
       "      <td>Internet applications development - Clayton</td>\n",
       "      <td>2024</td>\n",
       "      <td>Semester 2</td>\n",
       "      <td>CourseStatus.ACTIVE</td>\n",
       "      <td>2024-04-10T14:34:23.071612+10:00</td>\n",
       "      <td>2024-11-13T11:00:00+11:00</td>\n",
       "    </tr>\n",
       "    <tr>\n",
       "      <th>14</th>\n",
       "      <td>21771</td>\n",
       "      <td>FIT2081 - MUM S1 2025</td>\n",
       "      <td>🇲🇾 Mobile apps development - MUM S1 2025</td>\n",
       "      <td>2025</td>\n",
       "      <td>Semester 1</td>\n",
       "      <td>CourseStatus.ACTIVE</td>\n",
       "      <td>2025-02-10T15:48:05.46438+11:00</td>\n",
       "      <td>2025-03-29T11:00:00+11:00</td>\n",
       "    </tr>\n",
       "  </tbody>\n",
       "</table>\n",
       "</div>"
      ],
      "text/plain": [
       "       id                               code  \\\n",
       "0   14133                   FIT2081 SSB 2024   \n",
       "1   14448                    FIT2081 S1 2024   \n",
       "2    5302  Master and Honours Thesis S2 2024   \n",
       "3   16396                    Sandbox FIT5032   \n",
       "4   20813                    FIT2081 S1 2025   \n",
       "5    8900                    FIT2095 S2 2022   \n",
       "6    4552                     FIT TA Network   \n",
       "7   10895                    FIT2081 S1 2023   \n",
       "8   15947              FIT2081 - MUM S1 2024   \n",
       "9   17066                    FIT5032 T3 2024   \n",
       "10  12301                    FIT5032 S2 2023   \n",
       "11  16870                    FIT2095 S2 2024   \n",
       "12  17129                     ITO5032 TP4-24   \n",
       "13  16400                    FIT5032 S2 2024   \n",
       "14  21771              FIT2081 - MUM S1 2025   \n",
       "\n",
       "                                                 name  year     session  \\\n",
       "0      Mobile application development - Summer B 2024  2024         SSB   \n",
       "1           (Archived) Mobile application development  2024  Semester 1   \n",
       "2                           Master and Honours Thesis  2024  Semester 1   \n",
       "3                  Sandbox - Internet App Development  2024  Semester 2   \n",
       "4                    📲 Mobile application development  2025  Semester 1   \n",
       "5                    e-Business software technologies  2022  Semester 2   \n",
       "6                                      FIT TA Network  2020  Semester 2   \n",
       "7                      Mobile application development  2023  Semester 1   \n",
       "8   FIT2081 Mobile application development - MUM S...  2024  Semester 1   \n",
       "9                   Internet applications development  2024          T3   \n",
       "10                  Internet applications development  2023  Semester 2   \n",
       "11                             Full stack development  2024  Semester 2   \n",
       "12                        Web application development  2024         TP4   \n",
       "13        Internet applications development - Clayton  2024  Semester 2   \n",
       "14           🇲🇾 Mobile apps development - MUM S1 2025  2025  Semester 1   \n",
       "\n",
       "                 status                        created_at  \\\n",
       "0   CourseStatus.ACTIVE  2023-11-07T21:07:54.753894+11:00   \n",
       "1   CourseStatus.ACTIVE   2024-01-04T10:28:54.36295+11:00   \n",
       "2   CourseStatus.ACTIVE  2021-02-06T18:26:45.929499+11:00   \n",
       "3   CourseStatus.ACTIVE  2024-04-09T15:25:35.155008+10:00   \n",
       "4   CourseStatus.ACTIVE   2025-01-14T17:30:01.39138+11:00   \n",
       "5   CourseStatus.ACTIVE  2022-06-30T09:50:23.403954+10:00   \n",
       "6   CourseStatus.ACTIVE  2020-07-23T11:09:39.197003+10:00   \n",
       "7   CourseStatus.ACTIVE  2023-02-08T08:45:13.194704+11:00   \n",
       "8   CourseStatus.ACTIVE   2024-02-19T00:10:18.52827+11:00   \n",
       "9   CourseStatus.ACTIVE  2024-06-19T12:20:58.586625+10:00   \n",
       "10  CourseStatus.ACTIVE  2023-06-27T13:40:24.067294+10:00   \n",
       "11  CourseStatus.ACTIVE  2024-06-12T06:42:16.888931+10:00   \n",
       "12  CourseStatus.ACTIVE   2024-06-24T09:25:35.58861+10:00   \n",
       "13  CourseStatus.ACTIVE  2024-04-10T14:34:23.071612+10:00   \n",
       "14  CourseStatus.ACTIVE   2025-02-10T15:48:05.46438+11:00   \n",
       "\n",
       "                  last_active  \n",
       "0   2024-02-29T11:00:00+11:00  \n",
       "1   2024-07-12T10:00:00+10:00  \n",
       "2   2025-03-25T11:00:00+11:00  \n",
       "3   2025-03-29T11:00:00+11:00  \n",
       "4   2025-03-29T11:00:00+11:00  \n",
       "5   2022-06-29T10:00:00+10:00  \n",
       "6   2023-10-08T11:00:00+11:00  \n",
       "7   2023-06-20T10:00:00+10:00  \n",
       "8   2024-09-04T10:00:00+10:00  \n",
       "9   2024-08-21T10:00:00+10:00  \n",
       "10  2023-11-15T11:00:00+11:00  \n",
       "11  2024-12-11T11:00:00+11:00  \n",
       "12  2024-08-13T10:00:00+10:00  \n",
       "13  2024-11-13T11:00:00+11:00  \n",
       "14  2025-03-29T11:00:00+11:00  "
      ]
     },
     "execution_count": 10,
     "metadata": {},
     "output_type": "execute_result"
    }
   ],
   "source": [
    "active_course = user.get_active_courses()\n",
    "active_course_df = pd.DataFrame([course.to_dict() for course in active_course])\n",
    "target_course = \"FIT2081\"\n",
    "course_id = 21771\n",
    "active_course_df"
   ]
  },
  {
   "cell_type": "markdown",
   "id": "6528688b",
   "metadata": {},
   "source": [
    "Get threads\n"
   ]
  },
  {
   "cell_type": "code",
   "execution_count": 7,
   "id": "7ba135c1082fe919",
   "metadata": {
    "ExecuteTime": {
     "end_time": "2025-03-20T14:18:10.350357Z",
     "start_time": "2025-03-20T14:18:10.306358Z"
    }
   },
   "outputs": [
    {
     "name": "stdout",
     "output_type": "stream",
     "text": [
      "id=2528616 user_id=272020 course_id=21771 type='post' title='Week 4 Attendance Codes' document='Dear FIT2081 Students,\\n\\nAttendance codes for Week 4 are below:\\n\\n' category='General' subcategory='' subsubcategory='' unique_view_count=124 vote_count=0 created_at=datetime.datetime(2025, 3, 28, 17, 10, 8, 466571, tzinfo=TzInfo(+11:00)) updated_at=datetime.datetime(2025, 3, 31, 9, 9, 10, 69918, tzinfo=TzInfo(+11:00)) user=ThreadUser(id=272020, name='Tan Choon Ling')\n"
     ]
    },
    {
     "data": {
      "text/plain": [
       "(100, 14)"
      ]
     },
     "execution_count": 7,
     "metadata": {},
     "output_type": "execute_result"
    }
   ],
   "source": [
    "\n",
    "thread_responses = ed_client.list_threads(course_id=course_id,limit=100)\n",
    "print(thread_responses[0])\n",
    "thread_responses_df = pd.DataFrame([thread.model_dump() for thread in thread_responses])\n",
    "thread_responses_df.shape\n"
   ]
  },
  {
   "cell_type": "markdown",
   "id": "9e11e2b4",
   "metadata": {},
   "source": [
    "Cleaning up the data"
   ]
  },
  {
   "cell_type": "code",
   "execution_count": 8,
   "id": "8d91a2b9082ee99",
   "metadata": {},
   "outputs": [
    {
     "data": {
      "text/html": [
       "<div>\n",
       "<style scoped>\n",
       "    .dataframe tbody tr th:only-of-type {\n",
       "        vertical-align: middle;\n",
       "    }\n",
       "\n",
       "    .dataframe tbody tr th {\n",
       "        vertical-align: top;\n",
       "    }\n",
       "\n",
       "    .dataframe thead th {\n",
       "        text-align: right;\n",
       "    }\n",
       "</style>\n",
       "<table border=\"1\" class=\"dataframe\">\n",
       "  <thead>\n",
       "    <tr style=\"text-align: right;\">\n",
       "      <th></th>\n",
       "      <th>id</th>\n",
       "      <th>chunk_text</th>\n",
       "      <th>category</th>\n",
       "    </tr>\n",
       "  </thead>\n",
       "  <tbody>\n",
       "    <tr>\n",
       "      <th>0</th>\n",
       "      <td>2528616</td>\n",
       "      <td>Week 4 Attendance Codes Dear FIT2081 Students,...</td>\n",
       "      <td>General</td>\n",
       "    </tr>\n",
       "    <tr>\n",
       "      <th>1</th>\n",
       "      <td>2527751</td>\n",
       "      <td>Replacement tutorials for Hari Raya Holidays D...</td>\n",
       "      <td>General</td>\n",
       "    </tr>\n",
       "    <tr>\n",
       "      <th>2</th>\n",
       "      <td>2489020</td>\n",
       "      <td>Important Announcement Regarding Assignment Na...</td>\n",
       "      <td>Assignments</td>\n",
       "    </tr>\n",
       "    <tr>\n",
       "      <th>3</th>\n",
       "      <td>2484357</td>\n",
       "      <td>Consultation Replacement by Ms Nadzira Dear st...</td>\n",
       "      <td>General</td>\n",
       "    </tr>\n",
       "    <tr>\n",
       "      <th>4</th>\n",
       "      <td>2479864</td>\n",
       "      <td>The A1 MEGATHREAD Dear students,\\n\\nAs the for...</td>\n",
       "      <td>Assignments</td>\n",
       "    </tr>\n",
       "    <tr>\n",
       "      <th>...</th>\n",
       "      <td>...</td>\n",
       "      <td>...</td>\n",
       "      <td>...</td>\n",
       "    </tr>\n",
       "    <tr>\n",
       "      <th>95</th>\n",
       "      <td>2510615</td>\n",
       "      <td>Food Scoring \\n\\nHi, I saw from another thread...</td>\n",
       "      <td>Assignments</td>\n",
       "    </tr>\n",
       "    <tr>\n",
       "      <th>96</th>\n",
       "      <td>2510601</td>\n",
       "      <td>Regarding the user's names in A1 Hi. I saw tha...</td>\n",
       "      <td>Assignments</td>\n",
       "    </tr>\n",
       "    <tr>\n",
       "      <th>97</th>\n",
       "      <td>2510565</td>\n",
       "      <td>Using single-activity structure for your app. ...</td>\n",
       "      <td>Assignments</td>\n",
       "    </tr>\n",
       "    <tr>\n",
       "      <th>98</th>\n",
       "      <td>2510557</td>\n",
       "      <td>Using Jetpack Compose to implement a custom ci...</td>\n",
       "      <td>Assignments</td>\n",
       "    </tr>\n",
       "    <tr>\n",
       "      <th>99</th>\n",
       "      <td>2510490</td>\n",
       "      <td>Pros and cons of SharedPreferences In Week 3’s...</td>\n",
       "      <td>Assignments</td>\n",
       "    </tr>\n",
       "  </tbody>\n",
       "</table>\n",
       "<p>100 rows × 3 columns</p>\n",
       "</div>"
      ],
      "text/plain": [
       "         id                                         chunk_text     category\n",
       "0   2528616  Week 4 Attendance Codes Dear FIT2081 Students,...      General\n",
       "1   2527751  Replacement tutorials for Hari Raya Holidays D...      General\n",
       "2   2489020  Important Announcement Regarding Assignment Na...  Assignments\n",
       "3   2484357  Consultation Replacement by Ms Nadzira Dear st...      General\n",
       "4   2479864  The A1 MEGATHREAD Dear students,\\n\\nAs the for...  Assignments\n",
       "..      ...                                                ...          ...\n",
       "95  2510615  Food Scoring \\n\\nHi, I saw from another thread...  Assignments\n",
       "96  2510601  Regarding the user's names in A1 Hi. I saw tha...  Assignments\n",
       "97  2510565  Using single-activity structure for your app. ...  Assignments\n",
       "98  2510557  Using Jetpack Compose to implement a custom ci...  Assignments\n",
       "99  2510490  Pros and cons of SharedPreferences In Week 3’s...  Assignments\n",
       "\n",
       "[100 rows x 3 columns]"
      ]
     },
     "execution_count": 8,
     "metadata": {},
     "output_type": "execute_result"
    }
   ],
   "source": [
    "#combine the title, document and category \n",
    "thread_responses_df['combine_content'] = thread_responses_df['title'] + \" \" + thread_responses_df['document'] + \" \" + thread_responses_df['category']\n",
    "\n",
    "# thread_responses_df\n",
    "#remove empty string e.g \\n \\t\n",
    "thread_responses_df['chunk_text'] = thread_responses_df['combine_content'].str.strip()\n",
    "\n",
    "#pine df needs id, values, metadata\n",
    "pine_df = thread_responses_df[['id','chunk_text','category']].copy()\n",
    "pine_df['id'] = pine_df['id'].astype(str)\n",
    "pine_df"
   ]
  },
  {
   "cell_type": "markdown",
   "id": "2896b11e",
   "metadata": {},
   "source": [
    "insert into vector db"
   ]
  },
  {
   "cell_type": "code",
   "execution_count": 9,
   "id": "6d577b93",
   "metadata": {},
   "outputs": [
    {
     "name": "stderr",
     "output_type": "stream",
     "text": [
      "c:\\Users\\Caleb\\Documents\\FYP\\Ed-summariser-server\\.venv\\Lib\\site-packages\\tqdm\\auto.py:21: TqdmWarning: IProgress not found. Please update jupyter and ipywidgets. See https://ipywidgets.readthedocs.io/en/stable/user_install.html\n",
      "  from .autonotebook import tqdm as notebook_tqdm\n"
     ]
    }
   ],
   "source": [
    "from pinecone import Pinecone\n",
    "PINE_CONE_API_KEY = os.getenv(\"PINECONE_API_KEY\")\n",
    "pc = Pinecone(api_key=PINE_CONE_API_KEY)"
   ]
  },
  {
   "cell_type": "code",
   "execution_count": 11,
   "id": "2f28106c",
   "metadata": {},
   "outputs": [],
   "source": [
    "index_name = target_course.lower().replace(\" \", \"-\") + \"-thread-embeddings\"\n",
    "if not pc.has_index(index_name):\n",
    "    pc.create_index_for_model(\n",
    "        name=index_name,\n",
    "        cloud=\"aws\",\n",
    "        region=\"us-east-1\",\n",
    "        embed={\n",
    "            \"model\": \"llama-text-embed-v2\",\n",
    "            \"field_map\": {\"text\": \"chunk_text\"}\n",
    "        }\n",
    "    )"
   ]
  },
  {
   "cell_type": "code",
   "execution_count": 12,
   "id": "aef5f617",
   "metadata": {},
   "outputs": [
    {
     "name": "stdout",
     "output_type": "stream",
     "text": [
      "Upserting records 0 to 50\n",
      "Upserting records 50 to 100\n"
     ]
    }
   ],
   "source": [
    "index = pc.Index(index_name)\n",
    "for i in range(0, pine_df.shape[0], 50):\n",
    "    print(f\"Upserting records {i} to {i+50}\")\n",
    "    index.upsert_records(namespace=\"test\", records=pine_df.to_dict(orient='records')[i:i+50])"
   ]
  },
  {
   "cell_type": "markdown",
   "id": "748d4049",
   "metadata": {},
   "source": [
    "k mean clustering"
   ]
  },
  {
   "cell_type": "code",
   "execution_count": 13,
   "id": "2feffaff",
   "metadata": {},
   "outputs": [],
   "source": [
    "from sklearn.cluster import KMeans\n",
    "from numpy import random"
   ]
  },
  {
   "cell_type": "code",
   "execution_count": 10,
   "id": "39c1cb91",
   "metadata": {},
   "outputs": [],
   "source": [
    "ids = list(index.list(namespace=\"test\"))\n",
    "embedding = index.fetch(ids[0], namespace=\"test\")\n",
    "# {id, values}\n",
    "embeddings_dict = embedding.vectors\n",
    "embeddings = [{\"id\": vector.id, \"embedding\": vector.values, \"metadata\": vector.metadata } for vector in embeddings_dict.values()]\n",
    "embeddings_df = pd.DataFrame(embeddings)\n"
   ]
  },
  {
   "cell_type": "code",
   "execution_count": 11,
   "id": "c1bd70c4",
   "metadata": {},
   "outputs": [],
   "source": [
    "embeddings_array = embeddings_df['embedding'].to_list()"
   ]
  },
  {
   "cell_type": "code",
   "execution_count": 35,
   "id": "3715bb33",
   "metadata": {},
   "outputs": [],
   "source": [
    "kmeans = KMeans(n_clusters=8, random_state=random.randint(0,100000)).fit(embeddings_array)\n",
    "clusters= kmeans.cluster_centers_\n",
    "search = clusters[1].tolist()\n"
   ]
  },
  {
   "cell_type": "code",
   "execution_count": 36,
   "id": "11001bb2",
   "metadata": {},
   "outputs": [],
   "source": [
    "results = index.query(vector=search, top_k=3, namespace=\"test\", rerank={\n",
    "    \"model\": \"bge-reranker-v2-m3\",\n",
    "    \"top_n\": 10,\n",
    "    \"rank_fields\": [\"chunk_text\"]\n",
    "})\n",
    "matched_ids = [result.id for result in results.matches]\n",
    "## get the content \n",
    "related_questions = index.fetch(matched_ids, namespace=\"test\")"
   ]
  },
  {
   "cell_type": "code",
   "execution_count": 37,
   "id": "54651cad",
   "metadata": {},
   "outputs": [],
   "source": [
    "text = [thread.metadata for thread in related_questions.vectors.values()]\n",
    "text_combine = \"question :\".join([f\"{t[\"chunk_text\"]}\" for t in text])\n"
   ]
  },
  {
   "cell_type": "code",
   "execution_count": null,
   "id": "2b2b9526",
   "metadata": {},
   "outputs": [
    {
     "data": {
      "text/plain": [
       "'Title for map and google result views Are we supposed to show a text view called \"Map View\" or \"Google Result\" for the map and google result view like in the expected output video?\\n\\n\\n\\n\\n\\n\\n Assignmentsquestion :Map View Do we need to show the text of \"Map View\" like in a expected output? \\nI\\'m wondering if I would lose a mark if I don\\'t implement this.  Assignmentsquestion :4.3.1 Hi, \\n\\nI\\'m not sure what 4.3.1 is asking = add a new marker to identify category location on the map with title = category name.\\n\\n Assignments'"
      ]
     },
     "execution_count": 38,
     "metadata": {},
     "output_type": "execute_result"
    }
   ],
   "source": [
    "text_combine"
   ]
  },
  {
   "cell_type": "markdown",
   "id": "013588a9",
   "metadata": {},
   "source": [
    "Send the cluster related document to llm to create faq"
   ]
  },
  {
   "cell_type": "code",
   "execution_count": null,
   "id": "4ac89cb2",
   "metadata": {},
   "outputs": [],
   "source": [
    "from openai import OpenAI\n",
    "\n",
    "client = OpenAI(\n",
    "    base_url=\"https://openrouter.ai/api/v1\",\n",
    "    api_key=(\n",
    "        \"\"),\n",
    ")"
   ]
  },
  {
   "cell_type": "code",
   "execution_count": null,
   "id": "6261c120",
   "metadata": {},
   "outputs": [
    {
     "name": "stdout",
     "output_type": "stream",
     "text": [
      "ChatCompletion(id='gen-1743145144-EPr97eDexQq1HES60QAN', choices=[Choice(finish_reason='stop', index=0, logprobs=None, message=ChatCompletionMessage(content='```json\\n{\\n  \"questions\": [\\n    {\\n      \"category\": \"Assignments\",\\n      \"concise_question\": \"For the map and Google result views, should we include text views labeled \\\\\"Map View\\\\\" and \\\\\"Google Result\\\\\" as shown in the expected output? Will not including this affect the grade?\"\\n    },\\n    {\\n      \"category\": \"Assignments\",\\n      \"concise_question\": \"What is the expected implementation of 4.3.1 - adding a new marker to the map to identify a category location with the category name as the title?\"\\n    }\\n  ]\\n}\\n```', refusal=None, role='assistant', annotations=None, audio=None, function_call=None, tool_calls=None), native_finish_reason='STOP')], created=1743145144, model='google/gemini-2.0-flash-lite-preview-02-05', object='chat.completion', service_tier=None, system_fingerprint=None, usage=CompletionUsage(completion_tokens=134, prompt_tokens=240, total_tokens=374, completion_tokens_details=None, prompt_tokens_details=None), provider='Google')\n",
      "```json\n",
      "{\n",
      "  \"questions\": [\n",
      "    {\n",
      "      \"category\": \"Assignments\",\n",
      "      \"concise_question\": \"For the map and Google result views, should we include text views labeled \\\"Map View\\\" and \\\"Google Result\\\" as shown in the expected output? Will not including this affect the grade?\"\n",
      "    },\n",
      "    {\n",
      "      \"category\": \"Assignments\",\n",
      "      \"concise_question\": \"What is the expected implementation of 4.3.1 - adding a new marker to the map to identify a category location with the category name as the title?\"\n",
      "    }\n",
      "  ]\n",
      "}\n",
      "```\n"
     ]
    }
   ],
   "source": [
    "\n",
    "completion = client.chat.completions.create(\n",
    "    model=\"google/gemini-2.0-flash-lite-preview-02-05:free\",\n",
    "  messages=[\n",
    "    {\n",
    "      \"role\": \"system\",\n",
    "      \"content\": \"You are an assistant for a teaching of a large unit at a university. \\\n",
    "You are given a set of questions that are related, generate a concise questions that caputre all the important details of these questions so that the teaching team can answer them. \\\n",
    "If the questions are not related, please say that they are not related. \\\n",
    "The provided text contains questions and the category of the qestions which can be General, Labs, Assignments. Please also group the questions by their category. \\\"\"\n",
    "    },\n",
    "      {\n",
    "        \"role\": \"system\",\n",
    "        \"content\": \"Follow the return format below: \\\n",
    "          {\\\n",
    "          'category': 'assignments',\\\n",
    "          'questions': []\"\n",
    "          },\n",
    "    {\n",
    "        \"role\": \"user\",\n",
    "        \"content\": text_combine\n",
    "    }\n",
    "   \n",
    "  ]\n",
    ")\n",
    "print(completion)\n",
    "print(completion.choices[0].message.content)"
   ]
  },
  {
   "cell_type": "code",
   "execution_count": null,
   "id": "bb1b0eaa",
   "metadata": {},
   "outputs": [],
   "source": []
  },
  {
   "cell_type": "code",
   "execution_count": null,
   "id": "8a78889f",
   "metadata": {},
   "outputs": [],
   "source": []
  }
 ],
 "metadata": {
  "kernelspec": {
   "display_name": ".venv",
   "language": "python",
   "name": "python3"
  },
  "language_info": {
   "codemirror_mode": {
    "name": "ipython",
    "version": 3
   },
   "file_extension": ".py",
   "mimetype": "text/x-python",
   "name": "python",
   "nbconvert_exporter": "python",
   "pygments_lexer": "ipython3",
   "version": "3.12.4"
  }
 },
 "nbformat": 4,
 "nbformat_minor": 5
}
